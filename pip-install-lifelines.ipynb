{
 "cells": [
  {
   "cell_type": "markdown",
   "id": "be6f8a28",
   "metadata": {
    "papermill": {
     "duration": 0.001624,
     "end_time": "2024-12-05T06:42:21.743333",
     "exception": false,
     "start_time": "2024-12-05T06:42:21.741709",
     "status": "completed"
    },
    "tags": []
   },
   "source": [
    "# WHL Files to Pip Install Competition Metric\n",
    "There is a discussion explaining how to use these WHL files [here][1]. Below is a quick summary:\n",
    "\n",
    "To compute the competition metric in your notebook, attached this notebook (which you are reading) which contains WHL files (because we need to pip install with internet off to be able to submit to comp). Also attach Kaggle's metic notebook [here][2]. Then add the following code in the first cell:\n",
    "\n",
    "    !pip install /kaggle/input/pip-install-lifelines/autograd-1.7.0-py3-none-any.whl\n",
    "    !pip install /kaggle/input/pip-install-lifelines/autograd-gamma-0.5.0.tar.gz\n",
    "    !pip install /kaggle/input/pip-install-lifelines/interface_meta-1.3.0-py3-none-any.whl\n",
    "    !pip install /kaggle/input/pip-install-lifelines/formulaic-1.0.2-py3-none-any.whl\n",
    "    !pip install /kaggle/input/pip-install-lifelines/lifelines-0.30.0-py3-none-any.whl\n",
    "    \n",
    "Afterward to compute the competition metric, run this code where preds are your oof predictions:\n",
    "\n",
    "    from metric import score\n",
    "    y_true = train[[\"ID\",\"efs\",\"efs_time\",\"race_group\"]].copy()\n",
    "    y_pred = train[[\"ID\"]].copy()\n",
    "    y_pred[\"prediction\"] = preds\n",
    "    m = score(y_true.copy(), y_pred.copy(), \"ID\")\n",
    "    print(f\"CV Score = {m}\")\n",
    "\n",
    "\n",
    "[1]: https://www.kaggle.com/competitions/equity-post-HCT-survival-predictions/discussion/550003\n",
    "[2]: https://www.kaggle.com/code/metric/eefs-concordance-index"
   ]
  },
  {
   "cell_type": "code",
   "execution_count": 1,
   "id": "7025af08",
   "metadata": {
    "_cell_guid": "b1076dfc-b9ad-4769-8c92-a6c4dae69d19",
    "_uuid": "8f2839f25d086af736a60e9eeb907d3b93b6e0e5",
    "execution": {
     "iopub.execute_input": "2024-12-05T06:42:21.747319Z",
     "iopub.status.busy": "2024-12-05T06:42:21.746582Z",
     "iopub.status.idle": "2024-12-05T06:42:30.224003Z",
     "shell.execute_reply": "2024-12-05T06:42:30.223145Z"
    },
    "papermill": {
     "duration": 8.481671,
     "end_time": "2024-12-05T06:42:30.226244",
     "exception": false,
     "start_time": "2024-12-05T06:42:21.744573",
     "status": "completed"
    },
    "tags": []
   },
   "outputs": [
    {
     "name": "stdout",
     "output_type": "stream",
     "text": [
      "Collecting lifelines\n",
      "  File was already downloaded c:\\users\\mattg\\downloads\\kaggle_projects\\kaggle_cibmtr\\lifelines-0.27.8-py3-none-any.whl\n",
      "Collecting numpy<2.0,>=1.14.0 (from lifelines)\n",
      "  File was already downloaded c:\\users\\mattg\\downloads\\kaggle_projects\\kaggle_cibmtr\\numpy-1.24.4-cp38-cp38-win_amd64.whl\n",
      "Collecting scipy>=1.2.0 (from lifelines)\n",
      "  File was already downloaded c:\\users\\mattg\\downloads\\kaggle_projects\\kaggle_cibmtr\\scipy-1.10.1-cp38-cp38-win_amd64.whl\n",
      "Collecting pandas>=1.0.0 (from lifelines)\n",
      "  File was already downloaded c:\\users\\mattg\\downloads\\kaggle_projects\\kaggle_cibmtr\\pandas-2.0.3-cp38-cp38-win_amd64.whl\n",
      "Collecting matplotlib>=3.0 (from lifelines)\n",
      "  File was already downloaded c:\\users\\mattg\\downloads\\kaggle_projects\\kaggle_cibmtr\\matplotlib-3.7.5-cp38-cp38-win_amd64.whl\n",
      "Collecting autograd>=1.5 (from lifelines)\n",
      "  File was already downloaded c:\\users\\mattg\\downloads\\kaggle_projects\\kaggle_cibmtr\\autograd-1.7.0-py3-none-any.whl\n",
      "Collecting autograd-gamma>=0.3 (from lifelines)\n",
      "  File was already downloaded c:\\users\\mattg\\downloads\\kaggle_projects\\kaggle_cibmtr\\autograd-gamma-0.5.0.tar.gz\n",
      "  Preparing metadata (setup.py): started\n",
      "  Preparing metadata (setup.py): finished with status 'done'\n",
      "Collecting formulaic>=0.2.2 (from lifelines)\n",
      "  File was already downloaded c:\\users\\mattg\\downloads\\kaggle_projects\\kaggle_cibmtr\\formulaic-1.1.1-py3-none-any.whl\n",
      "Collecting astor>=0.8 (from formulaic>=0.2.2->lifelines)\n",
      "  File was already downloaded c:\\users\\mattg\\downloads\\kaggle_projects\\kaggle_cibmtr\\astor-0.8.1-py2.py3-none-any.whl\n",
      "Collecting graphlib-backport>=1.0.0 (from formulaic>=0.2.2->lifelines)\n",
      "  File was already downloaded c:\\users\\mattg\\downloads\\kaggle_projects\\kaggle_cibmtr\\graphlib_backport-1.1.0-py3-none-any.whl\n",
      "Collecting interface-meta>=1.2.0 (from formulaic>=0.2.2->lifelines)\n",
      "  File was already downloaded c:\\users\\mattg\\downloads\\kaggle_projects\\kaggle_cibmtr\\interface_meta-1.3.0-py3-none-any.whl\n",
      "Collecting typing-extensions>=4.2.0 (from formulaic>=0.2.2->lifelines)\n",
      "  File was already downloaded c:\\users\\mattg\\downloads\\kaggle_projects\\kaggle_cibmtr\\typing_extensions-4.12.2-py3-none-any.whl\n",
      "Collecting wrapt>=1.0 (from formulaic>=0.2.2->lifelines)\n",
      "  Downloading wrapt-1.17.2-cp38-cp38-win_amd64.whl.metadata (6.5 kB)\n",
      "Collecting contourpy>=1.0.1 (from matplotlib>=3.0->lifelines)\n",
      "  File was already downloaded c:\\users\\mattg\\downloads\\kaggle_projects\\kaggle_cibmtr\\contourpy-1.1.1-cp38-cp38-win_amd64.whl\n",
      "Collecting cycler>=0.10 (from matplotlib>=3.0->lifelines)\n",
      "  File was already downloaded c:\\users\\mattg\\downloads\\kaggle_projects\\kaggle_cibmtr\\cycler-0.12.1-py3-none-any.whl\n",
      "Collecting fonttools>=4.22.0 (from matplotlib>=3.0->lifelines)\n",
      "  Downloading fonttools-4.56.0-cp38-cp38-win_amd64.whl.metadata (103 kB)\n",
      "Collecting kiwisolver>=1.0.1 (from matplotlib>=3.0->lifelines)\n",
      "  File was already downloaded c:\\users\\mattg\\downloads\\kaggle_projects\\kaggle_cibmtr\\kiwisolver-1.4.7-cp38-cp38-win_amd64.whl\n",
      "Collecting packaging>=20.0 (from matplotlib>=3.0->lifelines)\n",
      "  File was already downloaded c:\\users\\mattg\\downloads\\kaggle_projects\\kaggle_cibmtr\\packaging-24.2-py3-none-any.whl\n",
      "Collecting pillow>=6.2.0 (from matplotlib>=3.0->lifelines)\n",
      "  File was already downloaded c:\\users\\mattg\\downloads\\kaggle_projects\\kaggle_cibmtr\\pillow-10.4.0-cp38-cp38-win_amd64.whl\n",
      "Collecting pyparsing>=2.3.1 (from matplotlib>=3.0->lifelines)\n",
      "  File was already downloaded c:\\users\\mattg\\downloads\\kaggle_projects\\kaggle_cibmtr\\pyparsing-3.1.4-py3-none-any.whl\n",
      "Collecting python-dateutil>=2.7 (from matplotlib>=3.0->lifelines)\n",
      "  File was already downloaded c:\\users\\mattg\\downloads\\kaggle_projects\\kaggle_cibmtr\\python_dateutil-2.9.0.post0-py2.py3-none-any.whl\n",
      "Collecting importlib-resources>=3.2.0 (from matplotlib>=3.0->lifelines)\n",
      "  File was already downloaded c:\\users\\mattg\\downloads\\kaggle_projects\\kaggle_cibmtr\\importlib_resources-6.4.5-py3-none-any.whl\n",
      "Collecting pytz>=2020.1 (from pandas>=1.0.0->lifelines)\n",
      "  Downloading pytz-2025.1-py2.py3-none-any.whl.metadata (22 kB)\n",
      "Collecting tzdata>=2022.1 (from pandas>=1.0.0->lifelines)\n",
      "  Downloading tzdata-2025.1-py2.py3-none-any.whl.metadata (1.4 kB)\n",
      "Collecting zipp>=3.1.0 (from importlib-resources>=3.2.0->matplotlib>=3.0->lifelines)\n",
      "  File was already downloaded c:\\users\\mattg\\downloads\\kaggle_projects\\kaggle_cibmtr\\zipp-3.20.2-py3-none-any.whl\n",
      "Collecting six>=1.5 (from python-dateutil>=2.7->matplotlib>=3.0->lifelines)\n",
      "  File was already downloaded c:\\users\\mattg\\downloads\\kaggle_projects\\kaggle_cibmtr\\six-1.17.0-py2.py3-none-any.whl\n",
      "Downloading fonttools-4.56.0-cp38-cp38-win_amd64.whl (1.5 MB)\n",
      "   ---------------------------------------- 0.0/1.5 MB ? eta -:--:--\n",
      "   ---------------------------------------- 1.5/1.5 MB 20.4 MB/s eta 0:00:00\n",
      "Downloading pytz-2025.1-py2.py3-none-any.whl (507 kB)\n",
      "Downloading tzdata-2025.1-py2.py3-none-any.whl (346 kB)\n",
      "Downloading wrapt-1.17.2-cp38-cp38-win_amd64.whl (38 kB)\n",
      "Saved c:\\users\\mattg\\downloads\\kaggle_projects\\kaggle_cibmtr\\fonttools-4.56.0-cp38-cp38-win_amd64.whl\n",
      "Saved c:\\users\\mattg\\downloads\\kaggle_projects\\kaggle_cibmtr\\pytz-2025.1-py2.py3-none-any.whl\n",
      "Saved c:\\users\\mattg\\downloads\\kaggle_projects\\kaggle_cibmtr\\tzdata-2025.1-py2.py3-none-any.whl\n",
      "Saved c:\\users\\mattg\\downloads\\kaggle_projects\\kaggle_cibmtr\\wrapt-1.17.2-cp38-cp38-win_amd64.whl\n",
      "Successfully downloaded lifelines autograd autograd-gamma formulaic matplotlib numpy pandas scipy astor contourpy cycler fonttools graphlib-backport importlib-resources interface-meta kiwisolver packaging pillow pyparsing python-dateutil pytz typing-extensions tzdata wrapt six zipp\n"
     ]
    },
    {
     "name": "stderr",
     "output_type": "stream",
     "text": [
      "\n",
      "[notice] A new release of pip is available: 25.0 -> 25.0.1\n",
      "[notice] To update, run: python.exe -m pip install --upgrade pip\n"
     ]
    }
   ],
   "source": [
    "!pip download lifelines"
   ]
  },
  {
   "cell_type": "code",
   "execution_count": null,
   "id": "00bff51a",
   "metadata": {},
   "outputs": [],
   "source": []
  }
 ],
 "metadata": {
  "kaggle": {
   "accelerator": "nvidiaTeslaT4",
   "dataSources": [
    {
     "databundleVersionId": 10381525,
     "sourceId": 70942,
     "sourceType": "competition"
    }
   ],
   "dockerImageVersionId": 30805,
   "isGpuEnabled": true,
   "isInternetEnabled": true,
   "language": "python",
   "sourceType": "notebook"
  },
  "kernelspec": {
   "display_name": "kaggle_env",
   "language": "python",
   "name": "python3"
  },
  "language_info": {
   "codemirror_mode": {
    "name": "ipython",
    "version": 3
   },
   "file_extension": ".py",
   "mimetype": "text/x-python",
   "name": "python",
   "nbconvert_exporter": "python",
   "pygments_lexer": "ipython3",
   "version": "3.8.10"
  },
  "papermill": {
   "default_parameters": {},
   "duration": 11.125112,
   "end_time": "2024-12-05T06:42:30.448190",
   "environment_variables": {},
   "exception": null,
   "input_path": "__notebook__.ipynb",
   "output_path": "__notebook__.ipynb",
   "parameters": {},
   "start_time": "2024-12-05T06:42:19.323078",
   "version": "2.6.0"
  }
 },
 "nbformat": 4,
 "nbformat_minor": 5
}
